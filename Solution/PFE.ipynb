{
 "cells": [
  {
   "cell_type": "markdown",
   "metadata": {},
   "source": [
    "##  Declaration : \n"
   ]
  },
  {
   "cell_type": "markdown",
   "metadata": {},
   "source": [
    "###  - Définition des vecteurs "
   ]
  },
  {
   "cell_type": "code",
   "execution_count": 1,
   "metadata": {},
   "outputs": [],
   "source": [
    "import math \n",
    "from astropy.table import QTable, Table, Column\n",
    "from astropy import units as u\n",
    "import numpy as np\n",
    "#--------------------------------------------------------------------------------\n",
    "class XVector(object):\n",
    "    def __init__(self, x1, x2):\n",
    "        self.x1 = x1\n",
    "        self.x2 = x2\n",
    "        \n",
    "class YVector(object):\n",
    "    def __init__(self, y1):\n",
    "        self.y1 = y1  "
   ]
  },
  {
   "cell_type": "markdown",
   "metadata": {},
   "source": [
    "###   - Cas d'une dérivée donnée ( gradient donné )"
   ]
  },
  {
   "cell_type": "code",
   "execution_count": 2,
   "metadata": {},
   "outputs": [],
   "source": [
    "#-------------------------LA DERIVE DONNEE --------------------------------------\n",
    "def f(X):\n",
    "    return (X.x1-2)**2+(X.x2-3)**2\n",
    "def df(X):\n",
    "    return 2*(X.x1-2) , 2*(X.x2-3) #composantes du gradient : df/dx , df/dy\n"
   ]
  },
  {
   "cell_type": "code",
   "execution_count": 3,
   "metadata": {},
   "outputs": [],
   "source": [
    "def descente_gradient_pas_fixe(f, df, X, alpha=1e-2, eps=1e-5, maxIter=1000):\n",
    "    # Recherche le minimum d'une fonction f par descente de gradient\n",
    "    # df doit être la dérivée de f ( le gradient)\n",
    "    # X est le valeur initial\n",
    "    # alpha est le taux d'apprentissage qui détermine la rapidité de la descente (par défaut 1/100)\n",
    "    # eps est la précision souhaitée (par défaut 1/100000)\n",
    "    # maxIter est le nombre maximum d'itération (par défaut 1000)\n",
    "    \n",
    "    gradx1, gradx2 = df(X)\n",
    "    grad = math.sqrt(gradx1**2+gradx2**2) # norme du gradient (math.sqrt est la racine carrée)\n",
    "    i=0\n",
    "        \n",
    "    Xhistory = Table(names=('x1', 'x2', 'ETAPE'), dtype=('f8', 'f8', 'i4'))\n",
    "    Xhistory.add_row((X.x1, X.x2, 0))\n",
    "    Yhistory = Table(names=('Y', 'ETAPE'), dtype=('f8', 'i4'))\n",
    "    Yhistory.add_row((f(X), 0))\n",
    "    \n",
    "    while abs(grad)>eps: # tant que la pente n'est pas approximativement nulle\n",
    "        gradx1, gradx2 = df(X) # on calcule la pente\n",
    "        grad = math.sqrt(gradx1**2+gradx2**2) # norme du gradient\n",
    "        X.x1 = X.x1-alpha*gradx1 # on effectue un petit pas vers le bas selon x1\n",
    "        X.x2 = X.x2-alpha*gradx2 # on effectue un petit pas vers le bas selon X2\n",
    "        i += 1\n",
    "        Xhistory.add_row((X.x1, X.x2, i))#  cette ligne pour imprimer les itérations\n",
    "        Yhistory.add_row((f(X), i)) #  cette ligne pour imprimer les itérations\n",
    "        if i > maxIter:\n",
    "            return None # on abandonne si le nombre d'itérations est trop élevé\n",
    "    return Xhistory,Yhistory\n"
   ]
  },
  {
   "cell_type": "markdown",
   "metadata": {},
   "source": [
    "###   - Cas d'une dérivée non donnée ( gradient non donné )"
   ]
  },
  {
   "cell_type": "code",
   "execution_count": 4,
   "metadata": {},
   "outputs": [],
   "source": [
    "#----------------------DERIVE NON DONNEE-------------------------------------------------------\n",
    "def g(x1,x2):\n",
    "    return (x1-2)**2+(x2-3)**2\n",
    "\n",
    "def descente_gradient_pas_fixe_2(g, X, alpha=1e-2, eps=1e-5, maxIter=1000):\n",
    "    # Recherche le minimum d'une fonction f par descente de gradient avec dérivée numérique\n",
    "    # X est le valeur initial\n",
    "    # alpha est le taux d'apprentissage qui détermine la rapidité de la descente (par défaut 1/100)\n",
    "    # eps est la précision souhaitée (par défaut 1/100000)\n",
    "    # maxIter est le nombre maximum d'itération (par défaut 1000)    \n",
    "    \n",
    "    grad = 1\n",
    "    i=0\n",
    "    \n",
    "    Xhistory = Table(names=('x1', 'x2', 'ETAPE'), dtype=('f8', 'f8', 'i4'))\n",
    "    Xhistory.add_row((X.x1, X.x2, 0))\n",
    "    Yhistory = Table(names=('Y', 'ETAPE'), dtype=('f8', 'i4'))\n",
    "    Yhistory.add_row((g(X.x1, X.x2), 0))\n",
    "    \n",
    "    while abs(grad)>eps:\n",
    "        gradx1 = (g(X.x1+eps,X.x2)-g(X.x1-eps,X.x2))/(2*eps) #approximation numérique de la dérivée df/dx1\n",
    "        gradx2 = (g(X.x1, X.x2+eps)-g(X.x1, X.x2-eps))/(2*eps) #approximation numérique de la dérivée df/dx2\n",
    "        grad = math.sqrt(gradx1**2+gradx2**2) # norme du gradient\n",
    "        X.x1 = X.x1-alpha*gradx1 # on effectue un petit pas vers le bas selon x1\n",
    "        X.x2 = X.x2-alpha*gradx2 # on effectue un petit pas vers le bas selon x2\n",
    "        i += 1\n",
    "        Xhistory.add_row((X.x1, X.x2, i))#  cette ligne pour imprimer les itérations\n",
    "        Yhistory.add_row((g(X.x1, X.x2), i)) #  cette ligne pour imprimer les itérations\n",
    "        if i > maxIter:\n",
    "            return None # on abandonne si le nombre d'itérations est trop élevé\n",
    "    return Xhistory,Yhistory\n",
    "\n"
   ]
  },
  {
   "cell_type": "markdown",
   "metadata": {},
   "source": [
    "###  - Un test sur la fonction \" descente_gradient_pas_fixe (...)\" le gradient donnée\n",
    "\n"
   ]
  },
  {
   "cell_type": "code",
   "execution_count": 5,
   "metadata": {},
   "outputs": [
    {
     "name": "stdout",
     "output_type": "stream",
     "text": [
      "---  descente_gradient_pas_fixe ----\n",
      "------------    X    -------------\n",
      "----------------------------------\n",
      "         x1                  x2         ETAPE\n",
      "------------------- ------------------- -----\n",
      "                0.0                 0.0     0\n",
      "               0.04                0.06     1\n",
      "0.07919999999999999 0.11879999999999999     2\n",
      "           0.117616            0.176424     3\n",
      "0.15526368000000002          0.23289552     4\n",
      "       0.1921584064        0.2882376096     5\n",
      "     0.228315238272      0.342472857408     6\n",
      "0.26374893350656003    0.39562340025984     7\n",
      "0.29847395483642886  0.4477109322546432     8\n",
      "0.33250447573970027  0.4987567136095503     9\n",
      "                ...                 ...   ...\n",
      " 1.9999966961990254  2.9999950442985375   659\n",
      "  1.999996762275045   2.999995143412567   660\n",
      "  1.999996827029544  2.9999952405443158   661\n",
      " 1.9999968904889531  2.9999953357334292   662\n",
      "  1.999996952679174  2.9999954290187607   663\n",
      " 1.9999970136255907  2.9999955204383855   664\n",
      "  1.999997073353079  2.9999956100296177   665\n",
      " 1.9999971318860175  2.9999956978290254   666\n",
      "  1.999997189248297   2.999995783872445   667\n",
      "  1.999997245463331   2.999995868194996   668\n",
      " 1.9999973005540643  2.9999959508310963   669\n",
      "Length = 670 rows\n",
      "----------------------------------\n",
      "------------   fX    -------------\n",
      "----------------------------------\n",
      "          Y            ETAPE\n",
      "---------------------- -----\n",
      "                  13.0     0\n",
      "    12.485199999999999     1\n",
      "    11.990786080000001     2\n",
      "       11.515950951232     3\n",
      "    11.059919293563212     4\n",
      "     10.62194648953811     5\n",
      "      10.2013174085524     6\n",
      "     9.797345239173726     7\n",
      "     9.409370367702447     8\n",
      "      9.03675930114143     9\n",
      "                   ...   ...\n",
      "3.5474077865300426e-11   659\n",
      " 3.406930437976404e-11   660\n",
      " 3.272015992440903e-11   661\n",
      " 3.142444159366711e-11   662\n",
      " 3.018003370593538e-11   663\n",
      " 2.898490437104772e-11   664\n",
      "2.7837102158058206e-11   665\n",
      "2.6734752911325403e-11   666\n",
      "2.5676056696286564e-11   667\n",
      " 2.465928485113808e-11   668\n",
      " 2.368277717055349e-11   669\n",
      "Length = 670 rows\n"
     ]
    }
   ],
   "source": [
    "#--------------------------------- TEST-----------------------------------------------\n",
    "X = XVector(0, 0)\n",
    "Y = YVector(0)\n",
    "#------------------------------- Descente1--------------------------------------------\n",
    "print(\"---  descente_gradient_pas_fixe ----\")\n",
    "X, fX = descente_gradient_pas_fixe(f, df, X)\n",
    "print(\"------------    X    -------------\")\n",
    "print(\"----------------------------------\")\n",
    "print(X)\n",
    "print(\"----------------------------------\")\n",
    "print(\"------------   fX    -------------\")\n",
    "print(\"----------------------------------\")\n",
    "print(fX)\n"
   ]
  },
  {
   "cell_type": "markdown",
   "metadata": {},
   "source": [
    "###  - Un test sur la fonction \" descente_gradient_pas_fixe_2(...)\"  le gradient non donnée\n"
   ]
  },
  {
   "cell_type": "code",
   "execution_count": 6,
   "metadata": {},
   "outputs": [
    {
     "name": "stdout",
     "output_type": "stream",
     "text": [
      "--- descente_gradient_pas_fixe_2 --\n",
      "------------    X    -------------\n",
      "----------------------------------\n",
      "         x1                  x2          ETAPE\n",
      "------------------- -------------------- -----\n",
      "                0.0                  0.0     0\n",
      "0.04000000000026205 0.060000000000393065     1\n",
      "  0.079200000000057  0.11880000000097367     2\n",
      "0.11761599999982053  0.17642400000106304     3\n",
      "0.15526367999907364  0.23289552000171906     4\n",
      "0.19215840639930093  0.28823760960250405     5\n",
      "0.22831523827182565  0.34247285741084704     6\n",
      "0.26374893350666895    0.395623400263112     7\n",
      "0.29847395483706407   0.4477109322573724     8\n",
      " 0.3325044757405138  0.49875671361299106     9\n",
      "                ...                  ...   ...\n",
      " 1.9999966961990254    2.999995044298539   659\n",
      "  1.999996762275045   2.9999951434125682   660\n",
      "  1.999996827029544   2.9999952405443167   661\n",
      " 1.9999968904889531     2.99999533573343   662\n",
      "  1.999996952679174   2.9999954290187616   663\n",
      " 1.9999970136255907   2.9999955204383864   664\n",
      "  1.999997073353079   2.9999956100296186   665\n",
      " 1.9999971318860175   2.9999956978290263   666\n",
      "  1.999997189248297    2.999995783872446   667\n",
      "  1.999997245463331    2.999995868194997   668\n",
      " 1.9999973005540643    2.999995950831097   669\n",
      "Length = 670 rows\n",
      "----------------------------------\n",
      "------------   gX    -------------\n",
      "----------------------------------\n",
      "          Y            ETAPE\n",
      "---------------------- -----\n",
      "                  13.0     0\n",
      "    12.485199999996661     1\n",
      "    11.990786079994171     2\n",
      "    11.515950951226673     3\n",
      "    11.059919293557117     4\n",
      "    10.621946489527057     5\n",
      "    10.201317408537886     6\n",
      "     9.797345239156304     7\n",
      "     9.409370367686352     8\n",
      "     9.036759301121503     9\n",
      "                   ...   ...\n",
      " 3.547407785209578e-11   659\n",
      " 3.406930436682349e-11   660\n",
      " 3.272015991595454e-11   661\n",
      " 3.142444158538171e-11   662\n",
      " 3.018003369781569e-11   663\n",
      " 2.898490436309042e-11   664\n",
      " 2.783710215026005e-11   665\n",
      " 2.673475290368321e-11   666\n",
      "2.5676056688797216e-11   667\n",
      "2.4659284843798518e-11   668\n",
      "2.3682777163360723e-11   669\n",
      "Length = 670 rows\n"
     ]
    }
   ],
   "source": [
    "#--------------------------------- TEST-----------------------------------------------\n",
    "X = XVector(0, 0)\n",
    "Y = YVector(0)\n",
    "#-------------------  descente_gradient_pas_fixe_2-  ----------------------------------\n",
    "print(\"--- descente_gradient_pas_fixe_2 --\")\n",
    "X, gX = descente_gradient_pas_fixe_2(g, X)\n",
    "print(\"------------    X    -------------\")\n",
    "print(\"----------------------------------\")\n",
    "print(X)\n",
    "print(\"----------------------------------\")\n",
    "print(\"------------   gX    -------------\")\n",
    "print(\"----------------------------------\")\n",
    "print(gX)"
   ]
  },
  {
   "cell_type": "markdown",
   "metadata": {},
   "source": [
    "###  - Un test sur les deux fonction f1 et f2 \" descente_gradient_pas_fixe_2(...)\" gradient non donnée"
   ]
  },
  {
   "cell_type": "code",
   "execution_count": 7,
   "metadata": {},
   "outputs": [
    {
     "name": "stdout",
     "output_type": "stream",
     "text": [
      "------------descente_gradient_pas_fixe_2-------------\n",
      "------------    X    -------------\n",
      "----------------------------------\n",
      "         x1                  x2         ETAPE\n",
      "------------------- ------------------- -----\n",
      "                3.0                 3.0     0\n",
      "  2.899999999989575     2.8600000000053     1\n",
      "  2.803399999990461   2.726600000006016     2\n",
      "  2.710065999988018   2.599502000005913     3\n",
      " 2.6198696599876143  2.4784212600045237     4\n",
      " 2.5326880541881565   2.363085713003585     5\n",
      " 2.4484034359700786  2.2532354039411757     6\n",
      "  2.366903013211072   2.148621953423799     7\n",
      "  2.288078733410856  2.0490080451550625     8\n",
      "   2.21182707829459  1.9541669360093579     9\n",
      "                ...                 ...   ...\n",
      "-0.7142790856030672  0.4285686828832098   797\n",
      "-0.7142791907207595  0.4285687264234923   798\n",
      "-0.7142792941704528   0.428568769272772   799\n",
      "-0.7142793959805687 0.42856881144348336   800\n",
      "-0.7142794961741998  0.4285688529445082   801\n",
      " -0.714279594779768   0.428568893788281   802\n",
      "-0.7142796918221421 0.42856893398368356   803\n",
      "-0.7142797873244149  0.4285689735431504   804\n",
      "-0.7142798813132316  0.4285690124755632   805\n",
      " -0.714279973811685  0.4285690507898039   806\n",
      "-0.7142800648428675  0.4285690884965305   807\n",
      "Length = 808 rows\n",
      "----------------------------------\n",
      "------------   f1(X)    -------------\n",
      "----------------------------------\n",
      "        Y          ETAPE\n",
      "------------------ -----\n",
      "              66.0     0\n",
      "    63.10319999997     1\n",
      " 60.44829711998743     2\n",
      " 58.01466500745952     3\n",
      " 55.78344998314566     4\n",
      "53.737418251362165     5\n",
      "  51.8608162935059     6\n",
      " 50.13924330701458     7\n",
      " 48.55953464947021     8\n",
      " 47.10965533872029     9\n",
      "               ...   ...\n",
      "29.428571428612244   797\n",
      " 29.42857142861096   798\n",
      "29.428571428609718   799\n",
      "29.428571428608514   800\n",
      "29.428571428607345   801\n",
      "29.428571428606215   802\n",
      " 29.42857142860512   803\n",
      "29.428571428604062   804\n",
      "29.428571428603036   805\n",
      " 29.42857142860204   806\n",
      "29.428571428601078   807\n",
      "Length = 808 rows\n"
     ]
    }
   ],
   "source": [
    "#--------------           test f1            ----------------\n",
    "def f1(x1,x2):\n",
    "    return (((x1)**2)+(2*(x2)**2)+(x1*x2)+x1-x2+30)\n",
    "\n",
    "#---------   descente_gradient_pas_fixe_2 de f1 -------------\n",
    "X = XVector(3, 3)\n",
    "print(\"------------descente_gradient_pas_fixe_2-------------\")\n",
    "X, f1X = descente_gradient_pas_fixe_2(f1, X)\n",
    "print(\"------------    X    -------------\")\n",
    "print(\"----------------------------------\")\n",
    "print(X)\n",
    "print(\"----------------------------------\")\n",
    "print(\"------------   f1(X)    -------------\")\n",
    "print(\"----------------------------------\")\n",
    "print(f1X)"
   ]
  },
  {
   "cell_type": "code",
   "execution_count": 8,
   "metadata": {},
   "outputs": [
    {
     "name": "stdout",
     "output_type": "stream",
     "text": [
      "--  descente_gradient_pas_fixe_2 ---\n",
      "------------    X    -------------\n",
      "----------------------------------\n",
      "          x1                     x2          ETAPE\n",
      "---------------------- --------------------- -----\n",
      "                   3.0                   3.0     0\n",
      "     2.939999999995166     2.399999999994293     1\n",
      "      2.88119999999725    1.9199999999911483     2\n",
      "    2.8235759999971606    1.5359999999872116     3\n",
      "    2.7671044799965046    1.2287999999872596     4\n",
      "    2.7117623903957195    0.9830399999869428     5\n",
      "    2.6575271425882647    0.7864319999891762     6\n",
      "    2.6043765997359998    0.6291455999914959     7\n",
      "     2.552289067740851    0.5033164799942398     8\n",
      "    2.5012432863861207     0.402653183995902     9\n",
      "                   ...                   ...   ...\n",
      "5.9438857741977265e-06 4.367513634912215e-22   650\n",
      " 5.825008058713772e-06 4.367513634912215e-22   651\n",
      " 5.708507897539497e-06 4.367513634912215e-22   652\n",
      " 5.594337739588707e-06 4.367513634912215e-22   653\n",
      " 5.482450984796933e-06 4.367513634912215e-22   654\n",
      " 5.372801965100994e-06 4.367513634912215e-22   655\n",
      " 5.265345925798975e-06 4.367513634912215e-22   656\n",
      " 5.160039007282995e-06 4.367513634912215e-22   657\n",
      " 5.056838227137335e-06 4.367513634912215e-22   658\n",
      " 4.955701462594588e-06 4.367513634912215e-22   659\n",
      " 4.856587433342696e-06 4.367513634912215e-22   660\n",
      "Length = 661 rows\n",
      "----------------------------------\n",
      "------------   f2(X)    -------------\n",
      "----------------------------------\n",
      "          Y            ETAPE\n",
      "---------------------- -----\n",
      "                  99.0     0\n",
      "     66.24359999969764     1\n",
      "     45.16531343964425     2\n",
      "     31.56554142736711     3\n",
      "     22.75636160290362     4\n",
      "    17.017331677707993     5\n",
      "    13.247203419663105     6\n",
      "    10.741019333139041     7\n",
      "     9.047454275647382     8\n",
      "     7.877513843512019     9\n",
      "                   ...   ...\n",
      " 3.532977809671011e-11   650\n",
      " 3.393071888408039e-11   651\n",
      " 3.258706241627081e-11   652\n",
      " 3.129661474458649e-11   653\n",
      "3.0057268800700865e-11   654\n",
      "2.8867000956193103e-11   655\n",
      "2.7723867718327862e-11   656\n",
      "2.6626002556682075e-11   657\n",
      "2.5571612855437463e-11   658\n",
      "2.4558976986362135e-11   659\n",
      "2.3586441497702193e-11   660\n",
      "Length = 661 rows\n"
     ]
    }
   ],
   "source": [
    "#--------------           test f2            ----------------\n",
    "def f2(x1,x2):\n",
    "    return ((x1)**2+10*(x2)**2)\n",
    "\n",
    "#------   descente_gradient_pas_fixe_2 de f2  ---------------\n",
    "X = XVector(3, 3)   #X0(3,3)\n",
    "print(\"--  descente_gradient_pas_fixe_2 ---\")\n",
    "X, f2X = descente_gradient_pas_fixe_2(f2, X)\n",
    "print(\"------------    X    -------------\")\n",
    "print(\"----------------------------------\")\n",
    "print(X)\n",
    "print(\"----------------------------------\")\n",
    "print(\"------------   f2(X)    -------------\")\n",
    "print(\"----------------------------------\")\n",
    "print(f2X)\n",
    "\n"
   ]
  },
  {
   "cell_type": "code",
   "execution_count": 10,
   "metadata": {},
   "outputs": [
    {
     "name": "stdout",
     "output_type": "stream",
     "text": [
      "X1 MIN     :  4.856587433342696e-06\n",
      "X2 MIN     :  4.367513634912215e-22\n",
      "Y  MIN     :  2.3586441497702193e-11\n",
      "          x1          \n",
      "----------------------\n",
      "                   3.0\n",
      "     2.939999999995166\n",
      "      2.88119999999725\n",
      "    2.8235759999971606\n",
      "    2.7671044799965046\n",
      "    2.7117623903957195\n",
      "    2.6575271425882647\n",
      "    2.6043765997359998\n",
      "     2.552289067740851\n",
      "    2.5012432863861207\n",
      "                   ...\n",
      "5.9438857741977265e-06\n",
      " 5.825008058713772e-06\n",
      " 5.708507897539497e-06\n",
      " 5.594337739588707e-06\n",
      " 5.482450984796933e-06\n",
      " 5.372801965100994e-06\n",
      " 5.265345925798975e-06\n",
      " 5.160039007282995e-06\n",
      " 5.056838227137335e-06\n",
      " 4.955701462594588e-06\n",
      " 4.856587433342696e-06\n",
      "Length = 661 rows\n",
      "          x2         \n",
      "---------------------\n",
      "                  3.0\n",
      "    2.399999999994293\n",
      "   1.9199999999911483\n",
      "   1.5359999999872116\n",
      "   1.2287999999872596\n",
      "   0.9830399999869428\n",
      "   0.7864319999891762\n",
      "   0.6291455999914959\n",
      "   0.5033164799942398\n",
      "    0.402653183995902\n",
      "                  ...\n",
      "4.367513634912215e-22\n",
      "4.367513634912215e-22\n",
      "4.367513634912215e-22\n",
      "4.367513634912215e-22\n",
      "4.367513634912215e-22\n",
      "4.367513634912215e-22\n",
      "4.367513634912215e-22\n",
      "4.367513634912215e-22\n",
      "4.367513634912215e-22\n",
      "4.367513634912215e-22\n",
      "4.367513634912215e-22\n",
      "Length = 661 rows\n"
     ]
    }
   ],
   "source": [
    "def f_allY(X):\n",
    "    tmp = []\n",
    "    for i in range(len(X[0])):\n",
    "        tmp.append (f2(X[0][i],X[1][i]))\n",
    "    return np.array(tmp)\n",
    "\n",
    "X1max=X[1]['x1']\n",
    "X1min=X[-1]['x1']\n",
    "print('X1 MIN     : ',X1min)\n",
    "\n",
    "X2max=X[1]['x2']\n",
    "X2min=X[-1]['x2']\n",
    "print('X2 MIN     : ',X2min)\n",
    "\n",
    "Ymax=f2X[1]['Y']\n",
    "Ymin=f2X[-1]['Y']\n",
    "print('Y  MIN     : ',Ymin)\n",
    "\n",
    "dom=[X1min,X1max,X2min,X2max]\n",
    "T2Lignes=[X['x1'], X['x2']]\n",
    "print(X['x1'])\n",
    "print(X['x2'])\n",
    "\n",
    "\n"
   ]
  },
  {
   "cell_type": "code",
   "execution_count": 37,
   "metadata": {},
   "outputs": [],
   "source": [
    "import numpy as np\n",
    "import matplotlib.pyplot as plt\n",
    "\n",
    "def plot_fun(f,dom):\n",
    "    \n",
    "    # affichage du graphe d'une fonction de R^2 dans R,\n",
    "    # de ses lignes de niveau,\n",
    "    # et valeur de son minimum sur une grille discrÃ¨te.\n",
    "    # f : fonction (prenant en entrÃ©e un tableau Ã  2 lignes de points Ã  calculer)\n",
    "    # dom : domaine de la grille\n",
    "    \n",
    "    # Definition des valeurs x1 et x2, des grilles correspondantes et evaluation de f\n",
    "    x, y = np.linspace(dom[0],dom[1],200), np.linspace(dom[2],dom[3],200)\n",
    "    x, y = np.meshgrid(x,y)\n",
    "    z = f(np.array([x.flatten(),y.flatten()])).reshape(x.shape)\n",
    "    \n",
    "    # valeur et position du minimum sur la grille:\n",
    "    imin = np.unravel_index(np.argmin(z),z.shape)\n",
    "    zmin = z[imin]\n",
    "    print('valeur du minimum sur la grille : ',zmin)\n",
    "    xmin, ymin = x[imin], y[imin]\n",
    "    print('position du minimiseur : (',xmin,',',ymin,')')\n",
    "    \n",
    "    # Graphique 3D:\n",
    "    fig = plt.figure()\n",
    "    ax = plt.axes(projection=\"3d\")\n",
    "    ax.plot([xmin,xmin],[ymin,ymin],[0,zmin],marker='o')\n",
    "    ax.plot_surface(x, y, z)\n",
    "    ax.set_title('Graphe de la fonction')\n",
    "    \n",
    "    # Graphique des lignes de niveaux\n",
    "    fig, ax = plt.subplots()\n",
    "    CS = ax.contour(x, y, z)\n",
    "    ax.clabel(CS, inline=1, fontsize=10)\n",
    "    ax.set_title('Lignes de niveau')"
   ]
  },
  {
   "cell_type": "code",
   "execution_count": 38,
   "metadata": {
    "scrolled": true
   },
   "outputs": [
    {
     "name": "stdout",
     "output_type": "stream",
     "text": [
      "valeur du minimum sur la grille :  2.3586441497702193e-11\n",
      "position du minimiseur : ( 4.856587433342696e-06 , 4.367513634912215e-22 )\n"
     ]
    },
    {
     "data": {
      "image/png": "[encoded data removed]",
      "text/plain": [
       "<Figure size 432x288 with 1 Axes>"
      ]
     },
     "metadata": {
      "needs_background": "light"
     },
     "output_type": "display_data"
    },
    {
     "data": {
      "image/png": "[encoded data removed]",
      "text/plain": [
       "<Figure size 432x288 with 1 Axes>"
      ]
     },
     "metadata": {
      "needs_background": "light"
     },
     "output_type": "display_data"
    }
   ],
   "source": [
    "plot_fun(f_allY,dom)\n"
   ]
  },
  {
   "cell_type": "code",
   "execution_count": 14,
   "metadata": {},
   "outputs": [
    {
     "name": "stdout",
     "output_type": "stream",
     "text": [
      "------------descente_gradient_pas_fixe_2-------------\n"
     ]
    },
    {
     "data": {
      "text/plain": [
       "[<matplotlib.lines.Line2D at 0x17f204616d0>]"
      ]
     },
     "execution_count": 14,
     "metadata": {},
     "output_type": "execute_result"
    },
    {
     "data": {
      "image/png": "[encoded data removed]",
      "text/plain": [
       "<Figure size 432x288 with 1 Axes>"
      ]
     },
     "metadata": {
      "needs_background": "light"
     },
     "output_type": "display_data"
    }
   ],
   "source": [
    "import matplotlib.pyplot as plt \n",
    "\n",
    "#---------   descente_gradient_pas_fixe_2 de f1 -------------\n",
    "X = XVector(3, 3)\n",
    "print(\"------------descente_gradient_pas_fixe_2-------------\")\n",
    "X, f1X = descente_gradient_pas_fixe_2(f1, X)\n",
    "\n",
    "X1min=X[-1]['x1']\n",
    "X2min=X[-1]['x2']\n",
    "\n",
    "plt.semilogy(f1X['Y']-f1(X1min,X2min))\n"
   ]
  },
  {
   "cell_type": "code",
   "execution_count": 15,
   "metadata": {},
   "outputs": [
    {
     "name": "stdout",
     "output_type": "stream",
     "text": [
      "------------descente_gradient_pas_fixe_2-------------\n"
     ]
    },
    {
     "data": {
      "text/plain": [
       "[<matplotlib.lines.Line2D at 0x17f20760a30>]"
      ]
     },
     "execution_count": 15,
     "metadata": {},
     "output_type": "execute_result"
    },
    {
     "data": {
      "image/png": "[encoded data removed]",
      "text/plain": [
       "<Figure size 432x288 with 1 Axes>"
      ]
     },
     "metadata": {
      "needs_background": "light"
     },
     "output_type": "display_data"
    }
   ],
   "source": [
    "#---------   descente_gradient_pas_fixe_2 de f2 -------------\n",
    "X = XVector(3, 3)\n",
    "print(\"------------descente_gradient_pas_fixe_2-------------\")\n",
    "X, f2X = descente_gradient_pas_fixe_2(f2, X)\n",
    "\n",
    "X1min=X[-1]['x1']\n",
    "X2min=X[-1]['x2']\n",
    "\n",
    "plt.semilogy(f2X['Y']-f2(X1min,X2min))"
   ]
  },
  {
   "cell_type": "code",
   "execution_count": 28,
   "metadata": {},
   "outputs": [
    {
     "name": "stdout",
     "output_type": "stream",
     "text": [
      "\n",
      "\n",
      "########################\n",
      "###   iteration 1   ###\n",
      "########################\n",
      "\n",
      "Inequality:  14956.92\n",
      "\n",
      "\n",
      "########################\n",
      "###   iteration 2   ###\n",
      "########################\n",
      "\n",
      "Inequality:  6791.439599999997\n",
      "\n",
      "\n",
      "########################\n",
      "###   iteration 3   ###\n",
      "########################\n",
      "\n",
      "Inequality:  2966.736563999999\n",
      "\n",
      "\n",
      "########################\n",
      "###   iteration 4   ###\n",
      "########################\n",
      "\n",
      "Inequality:  1216.099728359999\n",
      "\n",
      "\n",
      "########################\n",
      "###   iteration 5   ###\n",
      "########################\n",
      "\n",
      "Inequality:  444.7150352963994\n",
      "\n",
      "\n",
      "########################\n",
      "###   iteration 6   ###\n",
      "########################\n",
      "\n",
      "Inequality:  127.23568517523583\n",
      "\n",
      "\n",
      "########################\n",
      "###   iteration 7   ###\n",
      "########################\n",
      "\n",
      "Inequality:  14.020208251865569\n",
      "\n",
      "final step size : 0.08235429999999996\n",
      "         x1                  x2         ETAPE\n",
      "------------------- ------------------- -----\n",
      "                3.0                 3.0     0\n",
      "               -3.0               -57.0     0\n",
      "               -3.0               -57.0     1\n",
      "-1.1999999999999993               -39.0     2\n",
      " 0.0600000000000005 -26.399999999999995     3\n",
      " 0.9420000000000006 -17.579999999999995     4\n",
      " 1.5594000000000006 -11.405999999999995     5\n",
      " 1.9915800000000004  -7.084199999999996     6\n",
      "           2.294106  -4.058939999999997     7\n"
     ]
    }
   ],
   "source": [
    "\n",
    "\n",
    "import numpy as np\n",
    "alpha = 0.1\n",
    "beta = 0.7\n",
    "eps=1e-5\n",
    "\n",
    "#--------------     test  avec la fonction f2            ----------------\n",
    "def f(x1,x2):\n",
    "    return ((x1)**2+10*(x2)**2)\n",
    "\n",
    "def dfx1 (x): \n",
    "    return (2*x)\n",
    "\n",
    "def dfx2 (x): \n",
    "    return (20*x)\n",
    "\n",
    "t = 1\n",
    "count = 1\n",
    "x0 = XVector(3, 3)\n",
    "#x0 = np.array([3,3])\n",
    "dx0 = np.array([6, 60])\n",
    "Xhistory = Table(names=('x1', 'x2', 'ETAPE'), dtype=('f8', 'f8', 'i4'))\n",
    "Xhistory.add_row((x0.x1, x0.x2, 0))\n",
    "\n",
    "\n",
    "def backtrack(x0, dfx1, dfx2, t, alpha, beta, count):\n",
    "    Xhistory.add_row((x0.x1-t*dfx1(x0.x1), x0.x2-t*dfx2(x0.x2), 0))\n",
    "    while (f(x0.x1,x0.x2) - (f(x0.x1-t*dfx1(x0.x1), x0.x2-t*dfx2(x0.x2))) + alpha * t * np.dot(np.array([dfx1(x0.x1), dfx2(x0.x2)]), np.array([dfx1(x0.x1), dfx2(x0.x2)]))) < eps:\n",
    "        Xhistory.add_row((x0.x1-t*dfx1(x0.x1), x0.x2-t*dfx2(x0.x2), format(count)))\n",
    "        t *= beta\n",
    "        print(\"\"\"\n",
    "\n",
    "########################\n",
    "###   iteration {}   ###\n",
    "########################\n",
    "\"\"\".format(count))\n",
    "        print(\"Inequality: \",  f(x0.x1,x0.x2) - (f(x0.x1,x0.x2) - (f(x0.x1-t*dfx1(x0.x1), x0.x2-t*dfx2(x0.x2))) + alpha * t * np.dot(np.array([dfx1(x0.x1), dfx2(x0.x2)]), np.array([dfx1(x0.x1), dfx2(x0.x2)]))))\n",
    "        count += 1\n",
    "    return t,Xhistory\n",
    "\n",
    "t ,Xhis = backtrack(x0, dfx1, dfx2, t, alpha, beta,count)\n",
    "\n",
    "print(\"\\nfinal step size :\",  t)\n",
    "print(Xhis)"
   ]
  },
  {
   "cell_type": "code",
   "execution_count": null,
   "metadata": {},
   "outputs": [],
   "source": []
  },
  {
   "cell_type": "code",
   "execution_count": null,
   "metadata": {},
   "outputs": [],
   "source": []
  },
  {
   "cell_type": "code",
   "execution_count": null,
   "metadata": {},
   "outputs": [],
   "source": []
  }
 ],
 "metadata": {
  "kernelspec": {
   "display_name": "Python 3",
   "language": "python",
   "name": "python3"
  },
  "language_info": {
   "codemirror_mode": {
    "name": "ipython",
    "version": 3
   },
   "file_extension": ".py",
   "mimetype": "text/x-python",
   "name": "python",
   "nbconvert_exporter": "python",
   "pygments_lexer": "ipython3",
   "version": "3.8.5"
  }
 },
 "nbformat": 4,
 "nbformat_minor": 4
}
